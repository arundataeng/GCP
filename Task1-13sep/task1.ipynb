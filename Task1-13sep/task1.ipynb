{
 "cells": [
  {
   "cell_type": "code",
   "execution_count": 2,
   "metadata": {},
   "outputs": [
    {
     "name": "stdout",
     "output_type": "stream",
     "text": [
      "Requirement already satisfied: google-cloud-storage in c:\\users\\arun.pravin\\appdata\\local\\programs\\python\\python312\\lib\\site-packages (2.18.2)\n",
      "Requirement already satisfied: google-auth<3.0dev,>=2.26.1 in c:\\users\\arun.pravin\\appdata\\local\\programs\\python\\python312\\lib\\site-packages (from google-cloud-storage) (2.34.0)\n",
      "Requirement already satisfied: google-api-core<3.0.0dev,>=2.15.0 in c:\\users\\arun.pravin\\appdata\\local\\programs\\python\\python312\\lib\\site-packages (from google-cloud-storage) (2.19.2)\n",
      "Requirement already satisfied: google-cloud-core<3.0dev,>=2.3.0 in c:\\users\\arun.pravin\\appdata\\local\\programs\\python\\python312\\lib\\site-packages (from google-cloud-storage) (2.4.1)\n",
      "Requirement already satisfied: google-resumable-media>=2.7.2 in c:\\users\\arun.pravin\\appdata\\local\\programs\\python\\python312\\lib\\site-packages (from google-cloud-storage) (2.7.2)\n",
      "Requirement already satisfied: requests<3.0.0dev,>=2.18.0 in c:\\users\\arun.pravin\\appdata\\local\\programs\\python\\python312\\lib\\site-packages (from google-cloud-storage) (2.32.3)\n",
      "Requirement already satisfied: google-crc32c<2.0dev,>=1.0 in c:\\users\\arun.pravin\\appdata\\local\\programs\\python\\python312\\lib\\site-packages (from google-cloud-storage) (1.6.0)\n",
      "Requirement already satisfied: googleapis-common-protos<2.0.dev0,>=1.56.2 in c:\\users\\arun.pravin\\appdata\\local\\programs\\python\\python312\\lib\\site-packages (from google-api-core<3.0.0dev,>=2.15.0->google-cloud-storage) (1.65.0)\n",
      "Requirement already satisfied: protobuf!=3.20.0,!=3.20.1,!=4.21.0,!=4.21.1,!=4.21.2,!=4.21.3,!=4.21.4,!=4.21.5,<6.0.0.dev0,>=3.19.5 in c:\\users\\arun.pravin\\appdata\\local\\programs\\python\\python312\\lib\\site-packages (from google-api-core<3.0.0dev,>=2.15.0->google-cloud-storage) (5.28.1)\n",
      "Requirement already satisfied: proto-plus<2.0.0dev,>=1.22.3 in c:\\users\\arun.pravin\\appdata\\local\\programs\\python\\python312\\lib\\site-packages (from google-api-core<3.0.0dev,>=2.15.0->google-cloud-storage) (1.24.0)\n",
      "Requirement already satisfied: cachetools<6.0,>=2.0.0 in c:\\users\\arun.pravin\\appdata\\local\\programs\\python\\python312\\lib\\site-packages (from google-auth<3.0dev,>=2.26.1->google-cloud-storage) (5.5.0)\n",
      "Requirement already satisfied: pyasn1-modules>=0.2.1 in c:\\users\\arun.pravin\\appdata\\local\\programs\\python\\python312\\lib\\site-packages (from google-auth<3.0dev,>=2.26.1->google-cloud-storage) (0.4.1)\n",
      "Requirement already satisfied: rsa<5,>=3.1.4 in c:\\users\\arun.pravin\\appdata\\local\\programs\\python\\python312\\lib\\site-packages (from google-auth<3.0dev,>=2.26.1->google-cloud-storage) (4.9)\n",
      "Requirement already satisfied: charset-normalizer<4,>=2 in c:\\users\\arun.pravin\\appdata\\local\\programs\\python\\python312\\lib\\site-packages (from requests<3.0.0dev,>=2.18.0->google-cloud-storage) (3.3.2)\n",
      "Requirement already satisfied: idna<4,>=2.5 in c:\\users\\arun.pravin\\appdata\\local\\programs\\python\\python312\\lib\\site-packages (from requests<3.0.0dev,>=2.18.0->google-cloud-storage) (3.10)\n",
      "Requirement already satisfied: urllib3<3,>=1.21.1 in c:\\users\\arun.pravin\\appdata\\local\\programs\\python\\python312\\lib\\site-packages (from requests<3.0.0dev,>=2.18.0->google-cloud-storage) (2.2.3)\n",
      "Requirement already satisfied: certifi>=2017.4.17 in c:\\users\\arun.pravin\\appdata\\local\\programs\\python\\python312\\lib\\site-packages (from requests<3.0.0dev,>=2.18.0->google-cloud-storage) (2024.8.30)\n",
      "Requirement already satisfied: pyasn1<0.7.0,>=0.4.6 in c:\\users\\arun.pravin\\appdata\\local\\programs\\python\\python312\\lib\\site-packages (from pyasn1-modules>=0.2.1->google-auth<3.0dev,>=2.26.1->google-cloud-storage) (0.6.1)\n"
     ]
    },
    {
     "name": "stderr",
     "output_type": "stream",
     "text": [
      "\n",
      "[notice] A new release of pip is available: 24.0 -> 24.2\n",
      "[notice] To update, run: python.exe -m pip install --upgrade pip\n"
     ]
    }
   ],
   "source": [
    "!pip install google-cloud-storage"
   ]
  },
  {
   "cell_type": "code",
   "execution_count": 1,
   "metadata": {},
   "outputs": [],
   "source": [
    "import os\n",
    "\n",
    "# Set the environment variable in Python\n",
    "os.environ[\"GOOGLE_APPLICATION_CREDENTIALS\"] =\"C:/Users/arun.pravin/Downloads/symbolic-math-435318-s8-74c9297af0db.json\"\n"
   ]
  },
  {
   "cell_type": "markdown",
   "metadata": {},
   "source": [
    "Verify Authentication"
   ]
  },
  {
   "cell_type": "code",
   "execution_count": 2,
   "metadata": {},
   "outputs": [
    {
     "name": "stdout",
     "output_type": "stream",
     "text": [
      "bucket-task1\n"
     ]
    }
   ],
   "source": [
    "from google.cloud import storage\n",
    "\n",
    "client = storage.Client()\n",
    "buckets = client.list_buckets()\n",
    "\n",
    "for bucket in buckets:\n",
    "    print(bucket.name)"
   ]
  },
  {
   "cell_type": "markdown",
   "metadata": {},
   "source": [
    "Upload file to GCP"
   ]
  },
  {
   "cell_type": "code",
   "execution_count": 3,
   "metadata": {},
   "outputs": [
    {
     "name": "stdout",
     "output_type": "stream",
     "text": [
      "File C:/Users/arun.pravin/Downloads/sample2.txt uploaded to sample2uploaded.txt.\n"
     ]
    }
   ],
   "source": [
    "from google.cloud import storage\n",
    "\n",
    "def upload_file_to_bucket(bucket_name, source_file_name, destination_blob_name):\n",
    "    # Initialize a client\n",
    "    storage_client = storage.Client()\n",
    "\n",
    "    # Get the bucket\n",
    "    bucket = storage_client.get_bucket(bucket_name)\n",
    "\n",
    "    # Create a blob and upload the file\n",
    "    blob = bucket.blob(destination_blob_name)\n",
    "    blob.upload_from_filename(source_file_name)\n",
    "\n",
    "    print(f\"File {source_file_name} uploaded to {destination_blob_name}.\")\n",
    "\n",
    "\n",
    "\n",
    "# Usage\n",
    "bucket_name = \"bucket-task1\"\n",
    "source_file_name = \"C:/Users/arun.pravin/Downloads/sample2.txt\"  # e.g., \"sample.txt\"\n",
    "destination_blob_name = \"sample2uploaded.txt\"  # The name for the file in the bucket\n",
    "\n",
    "# Upload file\n",
    "upload_file_to_bucket(bucket_name, source_file_name, destination_blob_name)\n"
   ]
  },
  {
   "cell_type": "markdown",
   "metadata": {},
   "source": [
    "List the files in the bucket"
   ]
  },
  {
   "cell_type": "code",
   "execution_count": 4,
   "metadata": {},
   "outputs": [
    {
     "name": "stdout",
     "output_type": "stream",
     "text": [
      "Files in bucket:\n",
      "sample1uploaded.txt\n",
      "sample2uploaded.txt\n"
     ]
    }
   ],
   "source": [
    "def list_files_in_bucket(bucket_name):\n",
    "    # Initialize a client\n",
    "    storage_client = storage.Client()\n",
    "\n",
    "    # Get the bucket\n",
    "    bucket = storage_client.get_bucket(bucket_name)\n",
    "\n",
    "    # List all objects in the bucket\n",
    "    blobs = bucket.list_blobs()\n",
    "\n",
    "    print(\"Files in bucket:\")\n",
    "    for blob in blobs:\n",
    "        print(blob.name)\n",
    "\n",
    "# List files\n",
    "list_files_in_bucket(bucket_name)"
   ]
  }
 ],
 "metadata": {
  "kernelspec": {
   "display_name": "Python 3",
   "language": "python",
   "name": "python3"
  },
  "language_info": {
   "codemirror_mode": {
    "name": "ipython",
    "version": 3
   },
   "file_extension": ".py",
   "mimetype": "text/x-python",
   "name": "python",
   "nbconvert_exporter": "python",
   "pygments_lexer": "ipython3",
   "version": "3.12.4"
  }
 },
 "nbformat": 4,
 "nbformat_minor": 2
}
